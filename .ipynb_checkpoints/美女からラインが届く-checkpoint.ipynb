{
 "cells": [
  {
   "cell_type": "code",
   "execution_count": 1,
   "id": "2fd8cab2-ebfa-4373-8418-02fcfeee2974",
   "metadata": {},
   "outputs": [
    {
     "name": "stdout",
     "output_type": "stream",
     "text": [
      "Collecting line-bot-sdk\n",
      "  Using cached line_bot_sdk-1.20.0-py2.py3-none-any.whl (72 kB)\n",
      "Requirement already satisfied: requests>=2.0 in c:\\users\\taich\\anaconda3\\lib\\site-packages (from line-bot-sdk) (2.25.1)\n",
      "Requirement already satisfied: future in c:\\users\\taich\\anaconda3\\lib\\site-packages (from line-bot-sdk) (0.18.2)\n",
      "Requirement already satisfied: certifi>=2017.4.17 in c:\\users\\taich\\anaconda3\\lib\\site-packages (from requests>=2.0->line-bot-sdk) (2020.12.5)\n",
      "Requirement already satisfied: urllib3<1.27,>=1.21.1 in c:\\users\\taich\\anaconda3\\lib\\site-packages (from requests>=2.0->line-bot-sdk) (1.26.4)\n",
      "Requirement already satisfied: chardet<5,>=3.0.2 in c:\\users\\taich\\anaconda3\\lib\\site-packages (from requests>=2.0->line-bot-sdk) (4.0.0)\n",
      "Requirement already satisfied: idna<3,>=2.5 in c:\\users\\taich\\anaconda3\\lib\\site-packages (from requests>=2.0->line-bot-sdk) (2.10)\n",
      "Installing collected packages: line-bot-sdk\n",
      "Successfully installed line-bot-sdk-1.20.0\n"
     ]
    }
   ],
   "source": [
    "!pip install line-bot-sdk"
   ]
  },
  {
   "cell_type": "code",
   "execution_count": 2,
   "id": "be491f8e-03f2-44b5-a9ca-d5ca5a5ea96e",
   "metadata": {},
   "outputs": [],
   "source": [
    "import json"
   ]
  },
  {
   "cell_type": "code",
   "execution_count": 16,
   "id": "8b1afef4-6f8e-4c36-929b-9db0efdd524d",
   "metadata": {},
   "outputs": [],
   "source": [
    "file = open(\"info.json\",\"r\")\n",
    "info = json.load(file)"
   ]
  },
  {
   "cell_type": "code",
   "execution_count": 16,
   "id": "72b0b39d-0456-49ae-82fe-dacc3abbafc2",
   "metadata": {},
   "outputs": [],
   "source": [
    "file = open('chatbot2/info.json','r')\n",
    "info = json.load(file)"
   ]
  },
  {
   "cell_type": "code",
   "execution_count": 19,
   "id": "1f6e1ac9-51f7-4485-8fac-af36d2e10bdd",
   "metadata": {},
   "outputs": [],
   "source": [
    "#info[\"CHANNEL_ACCESS_TOKEN\"]"
   ]
  },
  {
   "cell_type": "code",
   "execution_count": 20,
   "id": "4979827e-bd61-41a2-82fa-4202e7117941",
   "metadata": {},
   "outputs": [],
   "source": [
    "from linebot import LineBotApi\n",
    "from linebot.models import TextSendMessage"
   ]
  },
  {
   "cell_type": "code",
   "execution_count": 21,
   "id": "ce9b5944-b36f-46dc-afc9-3b48d957e044",
   "metadata": {},
   "outputs": [],
   "source": [
    "CHANNEL_ACCESS_TOKEN = info[\"CHANNEL_ACCESS_TOKEN\"]\n",
    "line_bot_api = LineBotApi(CHANNEL_ACCESS_TOKEN)"
   ]
  },
  {
   "cell_type": "code",
   "execution_count": 22,
   "id": "843d4ca8-5135-4d53-8d12-487f32aa13fe",
   "metadata": {},
   "outputs": [],
   "source": [
    "def main():\n",
    "    USER_ID = info[\"USER_ID\"]\n",
    "    messages= TextSendMessage(text=\"おはよう〜\\n朝だよ、起きてね♥\")\n",
    "    line_bot_api.push_message(USER_ID,messages)\n",
    "    \n",
    "if __name__==\"__main__\":\n",
    "    main()"
   ]
  },
  {
   "cell_type": "code",
   "execution_count": null,
   "id": "b7d85b3d-c91c-4c86-a2b8-cf19c9445bad",
   "metadata": {},
   "outputs": [],
   "source": []
  }
 ],
 "metadata": {
  "kernelspec": {
   "display_name": "Python 3",
   "language": "python",
   "name": "python3"
  },
  "language_info": {
   "codemirror_mode": {
    "name": "ipython",
    "version": 3
   },
   "file_extension": ".py",
   "mimetype": "text/x-python",
   "name": "python",
   "nbconvert_exporter": "python",
   "pygments_lexer": "ipython3",
   "version": "3.8.8"
  }
 },
 "nbformat": 4,
 "nbformat_minor": 5
}
